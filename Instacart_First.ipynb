{
  "nbformat": 4,
  "nbformat_minor": 0,
  "metadata": {
    "colab": {
      "name": "Untitled1.ipynb",
      "provenance": [],
      "authorship_tag": "ABX9TyPz1yLLwCUcZQw571g4mT6D",
      "include_colab_link": true
    },
    "kernelspec": {
      "name": "python3",
      "display_name": "Python 3"
    }
  },
  "cells": [
    {
      "cell_type": "markdown",
      "metadata": {
        "id": "view-in-github",
        "colab_type": "text"
      },
      "source": [
        "<a href=\"https://colab.research.google.com/github/mouratjim/Instacart_Mouratidis_Mitsas/blob/master/Instacart_First.ipynb\" target=\"_parent\"><img src=\"https://colab.research.google.com/assets/colab-badge.svg\" alt=\"Open In Colab\"/></a>"
      ]
    },
    {
      "cell_type": "code",
      "metadata": {
        "id": "EzSgJHByNySR",
        "colab_type": "code",
        "colab": {}
      },
      "source": [
        "import pandas as pd \n",
        "import gc                         \n",
        "gc.enable() "
      ],
      "execution_count": 0,
      "outputs": []
    },
    {
      "cell_type": "code",
      "metadata": {
        "id": "PUud6f39N9qg",
        "colab_type": "code",
        "colab": {}
      },
      "source": [
        "from google.colab import files\n",
        "files.upload() #upload kaggle.json\n",
        "\n",
        "!pip install -q kaggle\n",
        "!mkdir -p ~/.kaggle\n",
        "!cp kaggle.json ~/.kaggle/\n",
        "!ls ~/.kaggle\n",
        "!chmod 600 /root/.kaggle/kaggle.json"
      ],
      "execution_count": 0,
      "outputs": []
    },
    {
      "cell_type": "code",
      "metadata": {
        "id": "ItF5oLrPN_NU",
        "colab_type": "code",
        "colab": {}
      },
      "source": [
        "from kaggle.api.kaggle_api_extended import KaggleApi\n",
        "api = KaggleApi({\"username\":\"evangeloskalampokis\",\"key\":\"227307bd0d825ea8f784cb00dc373357\"})\n",
        "api.authenticate()\n",
        "files = api.competition_download_files(\"Instacart-Market-Basket-Analysis\")"
      ],
      "execution_count": 0,
      "outputs": []
    },
    {
      "cell_type": "code",
      "metadata": {
        "id": "0sada39gOCel",
        "colab_type": "code",
        "colab": {}
      },
      "source": [
        "import zipfile\n",
        "with zipfile.ZipFile('Instacart-Market-Basket-Analysis.zip', 'r') as zip_ref:\n",
        "    zip_ref.extractall('./input')"
      ],
      "execution_count": 0,
      "outputs": []
    },
    {
      "cell_type": "code",
      "metadata": {
        "id": "WCRuG71NODni",
        "colab_type": "code",
        "colab": {}
      },
      "source": [
        "import os\n",
        "working_directory = os.getcwd()+'/input'\n",
        "os.chdir(working_directory)\n",
        "for file in os.listdir(working_directory):   \n",
        "    if zipfile.is_zipfile(file): \n",
        "        with zipfile.ZipFile(file) as item: \n",
        "           item.extractall()  "
      ],
      "execution_count": 0,
      "outputs": []
    },
    {
      "cell_type": "code",
      "metadata": {
        "id": "6GEqReK0OGSR",
        "colab_type": "code",
        "colab": {}
      },
      "source": [
        "orders = pd.read_csv('../input/orders.csv' )\n",
        "order_products_train = pd.read_csv('../input/order_products__train.csv')\n",
        "order_products_prior = pd.read_csv('../input/order_products__prior.csv')\n",
        "products = pd.read_csv('../input/products.csv')\n",
        "aisles = pd.read_csv('../input/aisles.csv')\n",
        "departments = pd.read_csv('../input/departments.csv')"
      ],
      "execution_count": 0,
      "outputs": []
    },
    {
      "cell_type": "code",
      "metadata": {
        "id": "WeOA4XGIOIVk",
        "colab_type": "code",
        "colab": {}
      },
      "source": [
        ""
      ],
      "execution_count": 0,
      "outputs": []
    }
  ]
}